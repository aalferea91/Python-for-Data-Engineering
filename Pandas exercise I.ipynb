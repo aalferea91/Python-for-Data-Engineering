{
 "cells": [
  {
   "cell_type": "markdown",
   "id": "429c31db-a1be-4b8f-b702-d5ed31648878",
   "metadata": {
    "ExecuteTime": {
     "end_time": "2019-01-10T12:04:16.316807Z",
     "start_time": "2019-01-10T12:04:16.314183Z"
    }
   },
   "source": [
    "<h1><font color=\"#004D7F\" size=4>Pandas I</font></h1>\n"
   ]
  },
  {
   "cell_type": "markdown",
   "id": "assumed-arthur",
   "metadata": {},
   "source": [
    "## <font color=\"#004D7F\"> <i class=\"fa fa-pencil-square-o\" aria-hidden=\"true\" style=\"color:#113D68\"></i> Exercise"
   ]
  },
  {
   "cell_type": "markdown",
   "id": "parallel-narrative",
   "metadata": {},
   "source": [
    "1. Load the data from `data/titanic.csv`.\n",
    "\n",
    "2. Establish the field 'Name' as the index.\n",
    "\n",
    "3. Add a new column called 'adult'. The value of this field has to be True for every row in which the field 'Age' is greater or equal than 18.\n",
    "\n",
    "4. How many people were not adults?\n"
   ]
  },
  {
   "cell_type": "code",
   "execution_count": 1,
   "id": "098c419d-d88f-49de-be09-77c06988a23a",
   "metadata": {},
   "outputs": [],
   "source": [
    "import pandas as pd"
   ]
  },
  {
   "cell_type": "code",
   "execution_count": 4,
   "id": "24b776a7-68b2-4f2f-aa20-ec6ed8a2bb35",
   "metadata": {},
   "outputs": [],
   "source": [
    "passengers=pd.read_csv('data/titanic.csv',index_col='Name')"
   ]
  },
  {
   "cell_type": "code",
   "execution_count": 6,
   "id": "01ee1989-9b76-4933-bacc-7b41d9b248d3",
   "metadata": {},
   "outputs": [
    {
     "data": {
      "text/html": [
       "<div>\n",
       "<style scoped>\n",
       "    .dataframe tbody tr th:only-of-type {\n",
       "        vertical-align: middle;\n",
       "    }\n",
       "\n",
       "    .dataframe tbody tr th {\n",
       "        vertical-align: top;\n",
       "    }\n",
       "\n",
       "    .dataframe thead th {\n",
       "        text-align: right;\n",
       "    }\n",
       "</style>\n",
       "<table border=\"1\" class=\"dataframe\">\n",
       "  <thead>\n",
       "    <tr style=\"text-align: right;\">\n",
       "      <th></th>\n",
       "      <th>PClass</th>\n",
       "      <th>Age</th>\n",
       "      <th>Sex</th>\n",
       "      <th>Survived</th>\n",
       "      <th>SexCode</th>\n",
       "    </tr>\n",
       "    <tr>\n",
       "      <th>Name</th>\n",
       "      <th></th>\n",
       "      <th></th>\n",
       "      <th></th>\n",
       "      <th></th>\n",
       "      <th></th>\n",
       "    </tr>\n",
       "  </thead>\n",
       "  <tbody>\n",
       "    <tr>\n",
       "      <th>Allen, Miss Elisabeth Walton</th>\n",
       "      <td>1st</td>\n",
       "      <td>29.00</td>\n",
       "      <td>female</td>\n",
       "      <td>1</td>\n",
       "      <td>1</td>\n",
       "    </tr>\n",
       "    <tr>\n",
       "      <th>Allison, Miss Helen Loraine</th>\n",
       "      <td>1st</td>\n",
       "      <td>2.00</td>\n",
       "      <td>female</td>\n",
       "      <td>0</td>\n",
       "      <td>1</td>\n",
       "    </tr>\n",
       "    <tr>\n",
       "      <th>Allison, Mr Hudson Joshua Creighton</th>\n",
       "      <td>1st</td>\n",
       "      <td>30.00</td>\n",
       "      <td>male</td>\n",
       "      <td>0</td>\n",
       "      <td>0</td>\n",
       "    </tr>\n",
       "    <tr>\n",
       "      <th>Allison, Mrs Hudson JC (Bessie Waldo Daniels)</th>\n",
       "      <td>1st</td>\n",
       "      <td>25.00</td>\n",
       "      <td>female</td>\n",
       "      <td>0</td>\n",
       "      <td>1</td>\n",
       "    </tr>\n",
       "    <tr>\n",
       "      <th>Allison, Master Hudson Trevor</th>\n",
       "      <td>1st</td>\n",
       "      <td>0.92</td>\n",
       "      <td>male</td>\n",
       "      <td>1</td>\n",
       "      <td>0</td>\n",
       "    </tr>\n",
       "  </tbody>\n",
       "</table>\n",
       "</div>"
      ],
      "text/plain": [
       "                                              PClass    Age     Sex  Survived  \\\n",
       "Name                                                                            \n",
       "Allen, Miss Elisabeth Walton                     1st  29.00  female         1   \n",
       "Allison, Miss Helen Loraine                      1st   2.00  female         0   \n",
       "Allison, Mr Hudson Joshua Creighton              1st  30.00    male         0   \n",
       "Allison, Mrs Hudson JC (Bessie Waldo Daniels)    1st  25.00  female         0   \n",
       "Allison, Master Hudson Trevor                    1st   0.92    male         1   \n",
       "\n",
       "                                               SexCode  \n",
       "Name                                                    \n",
       "Allen, Miss Elisabeth Walton                         1  \n",
       "Allison, Miss Helen Loraine                          1  \n",
       "Allison, Mr Hudson Joshua Creighton                  0  \n",
       "Allison, Mrs Hudson JC (Bessie Waldo Daniels)        1  \n",
       "Allison, Master Hudson Trevor                        0  "
      ]
     },
     "execution_count": 6,
     "metadata": {},
     "output_type": "execute_result"
    }
   ],
   "source": [
    "passengers.head()"
   ]
  },
  {
   "cell_type": "code",
   "execution_count": 15,
   "id": "e4b6fca3-1729-45c3-b94a-ef8813790c2c",
   "metadata": {},
   "outputs": [],
   "source": [
    "passengersv1=passengers.assign(\n",
    "    Adult=lambda df:df['Age']>=18)"
   ]
  },
  {
   "cell_type": "code",
   "execution_count": 47,
   "id": "a3642f54-4d9a-4b74-8c88-de66ab00ada2",
   "metadata": {},
   "outputs": [
    {
     "data": {
      "text/plain": [
       "653"
      ]
     },
     "execution_count": 47,
     "metadata": {},
     "output_type": "execute_result"
    }
   ],
   "source": [
    "passengersv1['Adult'].value_counts().loc[False]"
   ]
  },
  {
   "cell_type": "markdown",
   "id": "impossible-arrival",
   "metadata": {},
   "source": [
    "## <font color=\"#004D7F\"> <i class=\"fa fa-pencil-square-o\" aria-hidden=\"true\" style=\"color:#113D68\"></i> Exercise"
   ]
  },
  {
   "cell_type": "markdown",
   "id": "detailed-guard",
   "metadata": {},
   "source": [
    "Read the dataframe stored in the file `data/titanic.csv`.\n",
    "\n",
    "1. How many unique classes are there? Which ones are those?\n",
    "\n",
    "2. What class has more people?\n",
    "\n",
    "3. Create a dataframe that contains the class with more people that also are not adults."
   ]
  },
  {
   "cell_type": "code",
   "execution_count": 36,
   "id": "9c992caa-cf39-49d7-a7de-757a3d10aca2",
   "metadata": {},
   "outputs": [],
   "source": [
    "passengers=pd.read_csv('data/titanic.csv')"
   ]
  },
  {
   "cell_type": "code",
   "execution_count": 41,
   "id": "f8afa007-9c4c-4d86-aa75-b174cc92d45f",
   "metadata": {},
   "outputs": [
    {
     "data": {
      "text/plain": [
       "4"
      ]
     },
     "execution_count": 41,
     "metadata": {},
     "output_type": "execute_result"
    }
   ],
   "source": [
    "passengers['PClass'].nunique()"
   ]
  },
  {
   "cell_type": "code",
   "execution_count": 43,
   "id": "f9d8e591-e23f-4c05-b22b-2d5e68efb821",
   "metadata": {},
   "outputs": [
    {
     "data": {
      "text/plain": [
       "array(['1st', '2nd', '*', '3rd'], dtype=object)"
      ]
     },
     "execution_count": 43,
     "metadata": {},
     "output_type": "execute_result"
    }
   ],
   "source": [
    "passengers['PClass'].unique()"
   ]
  },
  {
   "cell_type": "code",
   "execution_count": 44,
   "id": "0fd41a30-0a17-4911-ad0d-ebc3d4c2a171",
   "metadata": {},
   "outputs": [
    {
     "data": {
      "text/plain": [
       "3rd    711\n",
       "1st    322\n",
       "2nd    279\n",
       "*        1\n",
       "Name: PClass, dtype: int64"
      ]
     },
     "execution_count": 44,
     "metadata": {},
     "output_type": "execute_result"
    }
   ],
   "source": [
    "passengers['PClass'].value_counts()"
   ]
  },
  {
   "cell_type": "code",
   "execution_count": 84,
   "id": "a162c361-a93b-4498-b348-fd00c0643ad6",
   "metadata": {},
   "outputs": [],
   "source": [
    "passengersv2=passengers[(passengers['PClass']=='3rd')&(passengers['Age']<18)]"
   ]
  }
 ],
 "metadata": {
  "kernelspec": {
   "display_name": "Python 3 (ipykernel)",
   "language": "python",
   "name": "python3"
  },
  "language_info": {
   "codemirror_mode": {
    "name": "ipython",
    "version": 3
   },
   "file_extension": ".py",
   "mimetype": "text/x-python",
   "name": "python",
   "nbconvert_exporter": "python",
   "pygments_lexer": "ipython3",
   "version": "3.10.3"
  }
 },
 "nbformat": 4,
 "nbformat_minor": 5
}
