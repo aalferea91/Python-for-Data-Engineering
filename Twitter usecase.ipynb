{
 "cells": [
  {
   "cell_type": "markdown",
   "metadata": {},
   "source": [
    "<h1><font color=\"#004D7F\" size=4>Python use case: Twitter</font></h1>\n"
   ]
  },
  {
   "cell_type": "markdown",
   "metadata": {},
   "source": [
    "The file 'tweets.json' contains the last 2500 tweets that mention the word 'españa' downloaded at 7:00 am on November 10th.\n",
    "\n",
    "Each json element represents the structure of a tweet following the schema provided by Twitter in its documentation:\n",
    "\n",
    "- https://developer.twitter.com/en/docs/twitter-api/v1/data-dictionary/overview/intro-to-tweet-json\n",
    "\n",
    "This exercise consists on answering some questions about this data using python."
   ]
  },
  {
   "cell_type": "markdown",
   "metadata": {},
   "source": [
    "## <i class=\"fa fa-pencil-square-o\"></i> Exercise 1\n",
    "\n",
    "Load the file with the tweets\n"
   ]
  },
  {
   "cell_type": "code",
   "execution_count": 2,
   "metadata": {},
   "outputs": [],
   "source": [
    "import json"
   ]
  },
  {
   "cell_type": "code",
   "execution_count": 3,
   "metadata": {},
   "outputs": [],
   "source": [
    "with open(\"data/tweets.json\", \"r\") as f:\n",
    "    tweets = json.loads(f.read())"
   ]
  },
  {
   "cell_type": "code",
   "execution_count": 3,
   "metadata": {
    "scrolled": true
   },
   "outputs": [
    {
     "data": {
      "text/plain": [
       "{'created_at': 'Tue Nov 10 06:37:25 +0000 2020',\n",
       " 'id': 1326051318809698304,\n",
       " 'id_str': '1326051318809698304',\n",
       " 'text': 'RT @titodelafuente: Con esta declaración de @fco_hspinola (No existen mecanismos de sanción en España) más al Auto del TJUE de Gondomar (Po…',\n",
       " 'truncated': False,\n",
       " 'entities': {'hashtags': [],\n",
       "  'symbols': [],\n",
       "  'user_mentions': [{'screen_name': 'titodelafuente',\n",
       "    'name': 'Tito de la Fuente',\n",
       "    'id': 36909711,\n",
       "    'id_str': '36909711',\n",
       "    'indices': [3, 18]},\n",
       "   {'screen_name': 'fco_hspinola',\n",
       "    'name': 'F. Hernández Spínola',\n",
       "    'id': 711622466028883968,\n",
       "    'id_str': '711622466028883968',\n",
       "    'indices': [44, 57]}],\n",
       "  'urls': []},\n",
       " 'metadata': {'iso_language_code': 'es', 'result_type': 'recent'},\n",
       " 'source': '<a href=\"http://twitter.com/download/android\" rel=\"nofollow\">Twitter for Android</a>',\n",
       " 'in_reply_to_status_id': None,\n",
       " 'in_reply_to_status_id_str': None,\n",
       " 'in_reply_to_user_id': None,\n",
       " 'in_reply_to_user_id_str': None,\n",
       " 'in_reply_to_screen_name': None,\n",
       " 'user': {'id': 259463191,\n",
       "  'id_str': '259463191',\n",
       "  'name': 'Mónica Balaguer',\n",
       "  'screen_name': 'monicabalaguer',\n",
       "  'location': '',\n",
       "  'description': 'trabajadora social, inquieta por aprender y básicamente feliz. Hoy en pie de guerra ante la injusticia de este país por precarizarme laboralmente. #Tjue_Fijeza',\n",
       "  'url': None,\n",
       "  'entities': {'description': {'urls': []}},\n",
       "  'protected': False,\n",
       "  'followers_count': 142,\n",
       "  'friends_count': 336,\n",
       "  'listed_count': 1,\n",
       "  'created_at': 'Tue Mar 01 23:45:06 +0000 2011',\n",
       "  'favourites_count': 3025,\n",
       "  'utc_offset': None,\n",
       "  'time_zone': None,\n",
       "  'geo_enabled': False,\n",
       "  'verified': False,\n",
       "  'statuses_count': 3174,\n",
       "  'lang': None,\n",
       "  'contributors_enabled': False,\n",
       "  'is_translator': False,\n",
       "  'is_translation_enabled': False,\n",
       "  'profile_background_color': 'EBEBEB',\n",
       "  'profile_background_image_url': 'http://abs.twimg.com/images/themes/theme7/bg.gif',\n",
       "  'profile_background_image_url_https': 'https://abs.twimg.com/images/themes/theme7/bg.gif',\n",
       "  'profile_background_tile': False,\n",
       "  'profile_image_url': 'http://pbs.twimg.com/profile_images/1278285834/IMG_0901_normal.PNG',\n",
       "  'profile_image_url_https': 'https://pbs.twimg.com/profile_images/1278285834/IMG_0901_normal.PNG',\n",
       "  'profile_link_color': '990000',\n",
       "  'profile_sidebar_border_color': 'DFDFDF',\n",
       "  'profile_sidebar_fill_color': 'F3F3F3',\n",
       "  'profile_text_color': '333333',\n",
       "  'profile_use_background_image': True,\n",
       "  'has_extended_profile': False,\n",
       "  'default_profile': False,\n",
       "  'default_profile_image': False,\n",
       "  'following': False,\n",
       "  'follow_request_sent': False,\n",
       "  'notifications': False,\n",
       "  'translator_type': 'none'},\n",
       " 'geo': None,\n",
       " 'coordinates': None,\n",
       " 'place': None,\n",
       " 'contributors': None,\n",
       " 'retweeted_status': {'created_at': 'Tue Nov 10 05:34:38 +0000 2020',\n",
       "  'id': 1326035517738283008,\n",
       "  'id_str': '1326035517738283008',\n",
       "  'text': 'Con esta declaración de @fco_hspinola (No existen mecanismos de sanción en España) más al Auto del TJUE de Gondomar… https://t.co/anw9x8S2KL',\n",
       "  'truncated': True,\n",
       "  'entities': {'hashtags': [],\n",
       "   'symbols': [],\n",
       "   'user_mentions': [{'screen_name': 'fco_hspinola',\n",
       "     'name': 'F. Hernández Spínola',\n",
       "     'id': 711622466028883968,\n",
       "     'id_str': '711622466028883968',\n",
       "     'indices': [24, 37]}],\n",
       "   'urls': [{'url': 'https://t.co/anw9x8S2KL',\n",
       "     'expanded_url': 'https://twitter.com/i/web/status/1326035517738283008',\n",
       "     'display_url': 'twitter.com/i/web/status/1…',\n",
       "     'indices': [117, 140]}]},\n",
       "  'metadata': {'iso_language_code': 'es', 'result_type': 'recent'},\n",
       "  'source': '<a href=\"http://twitter.com/download/iphone\" rel=\"nofollow\">Twitter for iPhone</a>',\n",
       "  'in_reply_to_status_id': None,\n",
       "  'in_reply_to_status_id_str': None,\n",
       "  'in_reply_to_user_id': None,\n",
       "  'in_reply_to_user_id_str': None,\n",
       "  'in_reply_to_screen_name': None,\n",
       "  'user': {'id': 36909711,\n",
       "   'id_str': '36909711',\n",
       "   'name': 'Tito de la Fuente',\n",
       "   'screen_name': 'titodelafuente',\n",
       "   'location': 'Santander (Cantabria)',\n",
       "   'description': 'Hijo de Goyo Zamoruca, en lucha por la estabilidad. Facilitador Certificado Metodología LEGO Serious Play #FOL #EIE. Otra educacion publica es posible',\n",
       "   'url': 'https://t.co/WuWmXUNJ9f',\n",
       "   'entities': {'url': {'urls': [{'url': 'https://t.co/WuWmXUNJ9f',\n",
       "       'expanded_url': 'http://www.titodelafuente.es',\n",
       "       'display_url': 'titodelafuente.es',\n",
       "       'indices': [0, 23]}]},\n",
       "    'description': {'urls': []}},\n",
       "   'protected': False,\n",
       "   'followers_count': 1140,\n",
       "   'friends_count': 224,\n",
       "   'listed_count': 75,\n",
       "   'created_at': 'Fri May 01 08:34:56 +0000 2009',\n",
       "   'favourites_count': 9304,\n",
       "   'utc_offset': None,\n",
       "   'time_zone': None,\n",
       "   'geo_enabled': True,\n",
       "   'verified': False,\n",
       "   'statuses_count': 8013,\n",
       "   'lang': None,\n",
       "   'contributors_enabled': False,\n",
       "   'is_translator': False,\n",
       "   'is_translation_enabled': False,\n",
       "   'profile_background_color': 'C0DEED',\n",
       "   'profile_background_image_url': 'http://abs.twimg.com/images/themes/theme1/bg.png',\n",
       "   'profile_background_image_url_https': 'https://abs.twimg.com/images/themes/theme1/bg.png',\n",
       "   'profile_background_tile': True,\n",
       "   'profile_image_url': 'http://pbs.twimg.com/profile_images/1256224395007348737/KP4Nopl6_normal.jpg',\n",
       "   'profile_image_url_https': 'https://pbs.twimg.com/profile_images/1256224395007348737/KP4Nopl6_normal.jpg',\n",
       "   'profile_banner_url': 'https://pbs.twimg.com/profile_banners/36909711/1453834021',\n",
       "   'profile_link_color': '0084B4',\n",
       "   'profile_sidebar_border_color': 'FFFFFF',\n",
       "   'profile_sidebar_fill_color': 'DDEEF6',\n",
       "   'profile_text_color': '333333',\n",
       "   'profile_use_background_image': True,\n",
       "   'has_extended_profile': False,\n",
       "   'default_profile': False,\n",
       "   'default_profile_image': False,\n",
       "   'following': False,\n",
       "   'follow_request_sent': False,\n",
       "   'notifications': False,\n",
       "   'translator_type': 'none'},\n",
       "  'geo': None,\n",
       "  'coordinates': None,\n",
       "  'place': None,\n",
       "  'contributors': None,\n",
       "  'is_quote_status': True,\n",
       "  'quoted_status_id': 1326009027696979969,\n",
       "  'quoted_status_id_str': '1326009027696979969',\n",
       "  'quoted_status': {'created_at': 'Tue Nov 10 03:49:22 +0000 2020',\n",
       "   'id': 1326009027696979969,\n",
       "   'id_str': '1326009027696979969',\n",
       "   'text': 'El Secretario de Estado de Función Pública reconoce en el Congreso la inexistencia de mecanismos de sanción frente… https://t.co/fy0AP1EXll',\n",
       "   'truncated': True,\n",
       "   'entities': {'hashtags': [],\n",
       "    'symbols': [],\n",
       "    'user_mentions': [],\n",
       "    'urls': [{'url': 'https://t.co/fy0AP1EXll',\n",
       "      'expanded_url': 'https://twitter.com/i/web/status/1326009027696979969',\n",
       "      'display_url': 'twitter.com/i/web/status/1…',\n",
       "      'indices': [116, 139]}]},\n",
       "   'metadata': {'iso_language_code': 'es', 'result_type': 'recent'},\n",
       "   'source': '<a href=\"https://mobile.twitter.com\" rel=\"nofollow\">Twitter Web App</a>',\n",
       "   'in_reply_to_status_id': None,\n",
       "   'in_reply_to_status_id_str': None,\n",
       "   'in_reply_to_user_id': None,\n",
       "   'in_reply_to_user_id_str': None,\n",
       "   'in_reply_to_screen_name': None,\n",
       "   'user': {'id': 1253994807065825280,\n",
       "    'id_str': '1253994807065825280',\n",
       "    'name': 'Trabajadores Temporales Públicos. TTPs',\n",
       "    'screen_name': 'UnionTTPs',\n",
       "    'location': '',\n",
       "    'description': 'Defendemos intereses comunes de Colectivos de Trabajadores Temporales Públicos desde y por el derecho, con políticas públicas que garanticen el interés general.',\n",
       "    'url': 'https://t.co/ZVQr435WMr',\n",
       "    'entities': {'url': {'urls': [{'url': 'https://t.co/ZVQr435WMr',\n",
       "        'expanded_url': 'http://www.ttps.es',\n",
       "        'display_url': 'ttps.es',\n",
       "        'indices': [0, 23]}]},\n",
       "     'description': {'urls': []}},\n",
       "    'protected': False,\n",
       "    'followers_count': 1169,\n",
       "    'friends_count': 260,\n",
       "    'listed_count': 9,\n",
       "    'created_at': 'Sat Apr 25 10:30:56 +0000 2020',\n",
       "    'favourites_count': 14749,\n",
       "    'utc_offset': None,\n",
       "    'time_zone': None,\n",
       "    'geo_enabled': False,\n",
       "    'verified': False,\n",
       "    'statuses_count': 14595,\n",
       "    'lang': None,\n",
       "    'contributors_enabled': False,\n",
       "    'is_translator': False,\n",
       "    'is_translation_enabled': False,\n",
       "    'profile_background_color': 'F5F8FA',\n",
       "    'profile_background_image_url': None,\n",
       "    'profile_background_image_url_https': None,\n",
       "    'profile_background_tile': False,\n",
       "    'profile_image_url': 'http://pbs.twimg.com/profile_images/1318278602039922688/XXHYBDVh_normal.jpg',\n",
       "    'profile_image_url_https': 'https://pbs.twimg.com/profile_images/1318278602039922688/XXHYBDVh_normal.jpg',\n",
       "    'profile_banner_url': 'https://pbs.twimg.com/profile_banners/1253994807065825280/1603213559',\n",
       "    'profile_link_color': '1DA1F2',\n",
       "    'profile_sidebar_border_color': 'C0DEED',\n",
       "    'profile_sidebar_fill_color': 'DDEEF6',\n",
       "    'profile_text_color': '333333',\n",
       "    'profile_use_background_image': True,\n",
       "    'has_extended_profile': False,\n",
       "    'default_profile': True,\n",
       "    'default_profile_image': False,\n",
       "    'following': False,\n",
       "    'follow_request_sent': False,\n",
       "    'notifications': False,\n",
       "    'translator_type': 'none'},\n",
       "   'geo': None,\n",
       "   'coordinates': None,\n",
       "   'place': None,\n",
       "   'contributors': None,\n",
       "   'is_quote_status': False,\n",
       "   'retweet_count': 14,\n",
       "   'favorite_count': 13,\n",
       "   'favorited': False,\n",
       "   'retweeted': False,\n",
       "   'possibly_sensitive': False,\n",
       "   'lang': 'es'},\n",
       "  'retweet_count': 4,\n",
       "  'favorite_count': 3,\n",
       "  'favorited': False,\n",
       "  'retweeted': False,\n",
       "  'possibly_sensitive': False,\n",
       "  'lang': 'es'},\n",
       " 'is_quote_status': True,\n",
       " 'quoted_status_id': 1326009027696979969,\n",
       " 'quoted_status_id_str': '1326009027696979969',\n",
       " 'retweet_count': 4,\n",
       " 'favorite_count': 0,\n",
       " 'favorited': False,\n",
       " 'retweeted': False,\n",
       " 'lang': 'es'}"
      ]
     },
     "execution_count": 3,
     "metadata": {},
     "output_type": "execute_result"
    }
   ],
   "source": [
    "tweets[0]"
   ]
  },
  {
   "cell_type": "markdown",
   "metadata": {},
   "source": [
    "## <i class=\"fa fa-pencil-square-o\"></i> Exercise 2\n",
    "\n",
    "How many tweets are there in total?\n"
   ]
  },
  {
   "cell_type": "code",
   "execution_count": 5,
   "metadata": {},
   "outputs": [
    {
     "data": {
      "text/plain": [
       "2500"
      ]
     },
     "execution_count": 5,
     "metadata": {},
     "output_type": "execute_result"
    }
   ],
   "source": [
    "len(tweets)"
   ]
  },
  {
   "cell_type": "markdown",
   "metadata": {},
   "source": [
    "## <i class=\"fa fa-pencil-square-o\"></i> Exercise 3\n",
    "\n",
    "What is the timestamp of the first tweet of the list?\n"
   ]
  },
  {
   "cell_type": "code",
   "execution_count": 6,
   "metadata": {},
   "outputs": [
    {
     "data": {
      "text/plain": [
       "'Tue Nov 10 06:37:25 +0000 2020'"
      ]
     },
     "execution_count": 6,
     "metadata": {},
     "output_type": "execute_result"
    }
   ],
   "source": [
    "tweets[0][\"created_at\"]"
   ]
  },
  {
   "cell_type": "markdown",
   "metadata": {},
   "source": [
    "## <i class=\"fa fa-pencil-square-o\"></i> Ejercicio 4\n",
    "\n",
    "What is the timestamp of the last tweet of the list?\n"
   ]
  },
  {
   "cell_type": "code",
   "execution_count": 7,
   "metadata": {},
   "outputs": [
    {
     "data": {
      "text/plain": [
       "'Tue Nov 10 06:01:10 +0000 2020'"
      ]
     },
     "execution_count": 7,
     "metadata": {},
     "output_type": "execute_result"
    }
   ],
   "source": [
    "tweets[-1][\"created_at\"]"
   ]
  },
  {
   "cell_type": "markdown",
   "metadata": {},
   "source": [
    "## <i class=\"fa fa-pencil-square-o\"></i> Exercise 5\n",
    "\n",
    "What is the username of the second tweet of the list?\n"
   ]
  },
  {
   "cell_type": "code",
   "execution_count": 8,
   "metadata": {},
   "outputs": [
    {
     "data": {
      "text/plain": [
       "'Teresa☮️🖤❤️'"
      ]
     },
     "execution_count": 8,
     "metadata": {},
     "output_type": "execute_result"
    }
   ],
   "source": [
    "tweets[1][\"user\"][\"name\"]"
   ]
  },
  {
   "cell_type": "code",
   "execution_count": 9,
   "metadata": {},
   "outputs": [
    {
     "data": {
      "text/plain": [
       "'ilusoaluso'"
      ]
     },
     "execution_count": 9,
     "metadata": {},
     "output_type": "execute_result"
    }
   ],
   "source": [
    "tweets[1][\"user\"][\"screen_name\"]"
   ]
  },
  {
   "cell_type": "markdown",
   "metadata": {},
   "source": [
    "## <i class=\"fa fa-pencil-square-o\"></i> Exercise 6\n",
    "\n",
    "How many followers does that user have?\n"
   ]
  },
  {
   "cell_type": "code",
   "execution_count": 10,
   "metadata": {},
   "outputs": [
    {
     "data": {
      "text/plain": [
       "2590"
      ]
     },
     "execution_count": 10,
     "metadata": {},
     "output_type": "execute_result"
    }
   ],
   "source": [
    "tweets[1][\"user\"][\"followers_count\"]"
   ]
  },
  {
   "cell_type": "markdown",
   "metadata": {},
   "source": [
    "## <i class=\"fa fa-pencil-square-o\"></i> Exercise 7\n",
    "\n",
    "What users does the third tweet of the list mentions? (look for the field 'entities')\n"
   ]
  },
  {
   "cell_type": "code",
   "execution_count": 37,
   "metadata": {},
   "outputs": [
    {
     "data": {
      "text/plain": [
       "'Hablamos español'"
      ]
     },
     "execution_count": 37,
     "metadata": {},
     "output_type": "execute_result"
    }
   ],
   "source": [
    "tweets[2][\"entities\"][\"user_mentions\"][0][\"name\"]"
   ]
  },
  {
   "cell_type": "markdown",
   "metadata": {},
   "source": [
    "## <i class=\"fa fa-pencil-square-o\"></i> Exercise 8\n",
    "\n",
    "How many hashtags does the third tweet have? (look for the field 'entities')\n"
   ]
  },
  {
   "cell_type": "code",
   "execution_count": 38,
   "metadata": {},
   "outputs": [
    {
     "data": {
      "text/plain": [
       "[{'text': 'YoQuieroEnseñanzaEnEspañol', 'indices': [102, 129]}]"
      ]
     },
     "execution_count": 38,
     "metadata": {},
     "output_type": "execute_result"
    }
   ],
   "source": [
    "tweets[2][\"entities\"][\"hashtags\"]"
   ]
  },
  {
   "cell_type": "code",
   "execution_count": 39,
   "metadata": {},
   "outputs": [
    {
     "data": {
      "text/plain": [
       "1"
      ]
     },
     "execution_count": 39,
     "metadata": {},
     "output_type": "execute_result"
    }
   ],
   "source": [
    "len(tweets[2][\"entities\"][\"hashtags\"])"
   ]
  },
  {
   "cell_type": "markdown",
   "metadata": {},
   "source": [
    "## <i class=\"fa fa-pencil-square-o\"></i> Exercise 9\n",
    "\n",
    "Obtain the name of all the users in a list\n"
   ]
  },
  {
   "cell_type": "code",
   "execution_count": 96,
   "metadata": {},
   "outputs": [],
   "source": [
    "#I use a set to avoid counting duplicates\n",
    "names = {tweet[\"user\"][\"screen_name\"] for tweet in tweets}"
   ]
  },
  {
   "cell_type": "code",
   "execution_count": 97,
   "metadata": {},
   "outputs": [],
   "source": [
    "names_list=list(names)"
   ]
  },
  {
   "cell_type": "markdown",
   "metadata": {},
   "source": [
    "## <i class=\"fa fa-pencil-square-o\"></i> Exercise 10\n",
    "\n",
    "How many unique users are there?\n"
   ]
  },
  {
   "cell_type": "code",
   "execution_count": 32,
   "metadata": {},
   "outputs": [],
   "source": [
    "#We consider a user unique if it's name is unique\n",
    "users={tweet['user']['name'] for tweet in tweets}"
   ]
  },
  {
   "cell_type": "code",
   "execution_count": 33,
   "metadata": {},
   "outputs": [
    {
     "data": {
      "text/plain": [
       "1807"
      ]
     },
     "execution_count": 33,
     "metadata": {},
     "output_type": "execute_result"
    }
   ],
   "source": [
    "len(users)"
   ]
  },
  {
   "cell_type": "code",
   "execution_count": null,
   "metadata": {},
   "outputs": [],
   "source": []
  },
  {
   "cell_type": "markdown",
   "metadata": {},
   "source": [
    "## <i class=\"fa fa-pencil-square-o\"></i> Exercise 11\n",
    "\n",
    "Which user have tweeted more times? How many?\n"
   ]
  },
  {
   "cell_type": "code",
   "execution_count": 37,
   "metadata": {},
   "outputs": [],
   "source": [
    "tweets_count={}\n",
    "for tweet in tweets:\n",
    "    if tweet['user']['name'] in tweets_count:\n",
    "        tweets_count[tweet['user']['name']]+=1\n",
    "    else:\n",
    "        tweets_count[tweet['user']['name']]=1"
   ]
  },
  {
   "cell_type": "code",
   "execution_count": 38,
   "metadata": {},
   "outputs": [],
   "source": [
    "max_user='none'\n",
    "max_count=0\n",
    "for user,count in tweets_count.items():\n",
    "    if count>max_count:\n",
    "        max_user=user\n",
    "        max_count=count"
   ]
  },
  {
   "cell_type": "code",
   "execution_count": 39,
   "metadata": {},
   "outputs": [
    {
     "data": {
      "text/plain": [
       "'soyelbulo'"
      ]
     },
     "execution_count": 39,
     "metadata": {},
     "output_type": "execute_result"
    }
   ],
   "source": [
    "max_user"
   ]
  },
  {
   "cell_type": "code",
   "execution_count": 40,
   "metadata": {},
   "outputs": [
    {
     "data": {
      "text/plain": [
       "24"
      ]
     },
     "execution_count": 40,
     "metadata": {},
     "output_type": "execute_result"
    }
   ],
   "source": [
    "max_count"
   ]
  },
  {
   "cell_type": "markdown",
   "metadata": {},
   "source": [
    "## <i class=\"fa fa-pencil-square-o\"></i> Exercise 12\n",
    "\n",
    "Obtain a list with the 3 most used hashtags\n"
   ]
  },
  {
   "cell_type": "code",
   "execution_count": 44,
   "metadata": {},
   "outputs": [
    {
     "data": {
      "text/plain": [
       "[]"
      ]
     },
     "execution_count": 44,
     "metadata": {},
     "output_type": "execute_result"
    }
   ],
   "source": [
    "tweets[0]['entities']['hashtags']"
   ]
  },
  {
   "cell_type": "code",
   "execution_count": 48,
   "metadata": {},
   "outputs": [],
   "source": [
    "hashtags={}\n",
    "for tweet in tweets:\n",
    "    for hashtag in tweet['entities']['hashtags']:\n",
    "        if hashtag['text'] in hashtags:\n",
    "            hashtags[hashtag['text']]+=1\n",
    "        else:\n",
    "            hashtags[hashtag['text']]=1"
   ]
  },
  {
   "cell_type": "code",
   "execution_count": 56,
   "metadata": {},
   "outputs": [],
   "source": [
    "top1hashtag='none'\n",
    "top1hashtagcount=0\n",
    "top2hashtag='none'\n",
    "top2hashtagcount=0\n",
    "top3hashtag='none'\n",
    "top3hashtagcount=0\n",
    "#first we find the top 1, then the top 2, and at last the top3\n",
    "for hashtag,count in hashtags.items():\n",
    "    if count>top1hashtagcount:\n",
    "        top1hashtag=hashtag\n",
    "        top1hashtagcount=count\n",
    "for hashtag,count in hashtags.items():\n",
    "    if (count>top2hashtagcount and hashtag!=top1hashtag):\n",
    "        top2hashtag=hashtag\n",
    "        top2hashtagcount=count\n",
    "for hashtag,count in hashtags.items():\n",
    "    if (count>top3hashtagcount and hashtag!=top1hashtag and hashtag!=top2hashtag):\n",
    "        top3hashtag=hashtag\n",
    "        top3hashtagcount=count"
   ]
  },
  {
   "cell_type": "code",
   "execution_count": 57,
   "metadata": {},
   "outputs": [],
   "source": [
    "top_hashtags={top1hashtag:top1hashtagcount,top2hashtag:top2hashtagcount,top3hashtag:top3hashtagcount}"
   ]
  },
  {
   "cell_type": "code",
   "execution_count": 58,
   "metadata": {},
   "outputs": [
    {
     "data": {
      "text/plain": [
       "{'YoQuieroEnseñanzaEnEspañol': 59, 'España': 37, 'diplomacia': 12}"
      ]
     },
     "execution_count": 58,
     "metadata": {},
     "output_type": "execute_result"
    }
   ],
   "source": [
    "top_hashtags"
   ]
  }
 ],
 "metadata": {
  "kernelspec": {
   "display_name": "Python 3 (ipykernel)",
   "language": "python",
   "name": "python3"
  },
  "language_info": {
   "codemirror_mode": {
    "name": "ipython",
    "version": 3
   },
   "file_extension": ".py",
   "mimetype": "text/x-python",
   "name": "python",
   "nbconvert_exporter": "python",
   "pygments_lexer": "ipython3",
   "version": "3.10.3"
  }
 },
 "nbformat": 4,
 "nbformat_minor": 4
}
